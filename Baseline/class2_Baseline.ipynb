{
  "cells": [
    {
      "cell_type": "markdown",
      "metadata": {
        "id": "gAJulNXoShVu"
      },
      "source": [
        "#데이터 로드 "
      ]
    },
    {
      "cell_type": "code",
      "execution_count": 7,
      "metadata": {
        "colab": {
          "base_uri": "https://localhost:8080/"
        },
        "id": "Xc4e9dUTSkMk",
        "outputId": "5e254661-77d3-4b3f-92fd-bf124c1ab6b2"
      },
      "outputs": [
        {
          "name": "stdout",
          "output_type": "stream",
          "text": [
            "mkdir: cannot create directory ‘Data’: File exists\n",
            "/content/Data\n",
            "Downloading...\n",
            "From: https://drive.google.com/u/0/uc?id=1SZ5j8SJTCqQQuNHTMDHXSOMShKUvB479\n",
            "To: /content/Data/open.zip\n",
            "100% 2.56G/2.56G [00:28<00:00, 89.5MB/s]\n"
          ]
        }
      ],
      "source": [
        "!mkdir Data \n",
        "%cd ./Data \n",
        "!gdown https://drive.google.com/u/0/uc?id=1SZ5j8SJTCqQQuNHTMDHXSOMShKUvB479&export=download\n",
        "!unzip open.zip \n",
        "!rm -f open.zip\n",
        "%cd /content"
      ]
    },
    {
      "cell_type": "code",
      "execution_count": 28,
      "metadata": {
        "id": "3h6BXsIdSlGu"
      },
      "outputs": [],
      "source": [
        "import os \n",
        "import warnings \n",
        "\n",
        "import cv2 \n",
        "import pandas as pd \n",
        "from glob import glob \n",
        "from tqdm import tqdm \n",
        "import random \n",
        "import matplotlib.pyplot as plt \n",
        "import numpy as np \n",
        "import tensorflow as tf \n",
        "from tensorflow import keras \n",
        "from tensorflow.keras import layers "
      ]
    },
    {
      "cell_type": "markdown",
      "metadata": {
        "id": "1Res6rzyTBfD"
      },
      "source": [
        "# 1단계 이미지 디렉토리 로드 "
      ]
    },
    {
      "cell_type": "code",
      "execution_count": 29,
      "metadata": {
        "id": "13A1KcA7TC6-"
      },
      "outputs": [],
      "source": [
        "img_dirs = sorted(glob('./Data/train/*.jpg'))[:2000]\n",
        "train_csv = pd.read_csv('./Data/train.csv')\n",
        "img_size = 224 \n"
      ]
    },
    {
      "cell_type": "markdown",
      "metadata": {},
      "source": [
        "# 2단계 이미지 데이터 로드 및 전처리 "
      ]
    },
    {
      "cell_type": "code",
      "execution_count": null,
      "metadata": {},
      "outputs": [],
      "source": [
        "\n",
        "def img_preprocess(img):\n",
        "    global img_size \n",
        "    img = cv2.resize(img,dsize=(img_size,img_size))\n",
        "    img = img/255.\n",
        "    img = img.astype(np.float16)\n",
        "    return img \n",
        "\n",
        "def img_load(img_dir):\n",
        "    img = cv2.imread(img_dir)\n",
        "    img = img_preprocess(img)\n",
        "    return img \n",
        "\n",
        "imgs = [img_load(img_dir) for img_dir in tqdm(img_dirs)]\n",
        "imgs = np.array(imgs)"
      ]
    },
    {
      "cell_type": "markdown",
      "metadata": {
        "id": "xhRaRRHKTEYJ"
      },
      "source": [
        "# 3단계 라벨 데이터 로드 "
      ]
    },
    {
      "cell_type": "code",
      "execution_count": 30,
      "metadata": {
        "id": "WjxaQK2qUQfD"
      },
      "outputs": [],
      "source": [
        "#라벨 데이터 정제 \n",
        "label_unique = np.unique(train_csv['artist'])\n",
        "label_decoder = {key:value for key,value in enumerate(label_unique)}\n",
        "label_encoder = {value:key for key,value in enumerate(label_unique)}\n",
        "\n",
        "labels = train_csv['artist'].apply(lambda x : label_encoder[x]).values[:2000]"
      ]
    },
    {
      "cell_type": "markdown",
      "metadata": {
        "id": "4Wp_lwODUYhZ"
      },
      "source": [
        "# Train-Valid 분리 "
      ]
    },
    {
      "cell_type": "code",
      "execution_count": 42,
      "metadata": {
        "id": "IK_x_48jUXQt"
      },
      "outputs": [],
      "source": [
        "valid_ratio = 0.8 \n",
        "valid_index = int(len(imgs)*valid_ratio)\n",
        "train_x = imgs[:valid_index]\n",
        "valid_x = imgs[valid_index:]\n",
        "\n",
        "train_y = labels[:valid_index]\n",
        "valid_y = labels[valid_index:]"
      ]
    },
    {
      "cell_type": "markdown",
      "metadata": {
        "id": "XahnC5xyWveF"
      },
      "source": [
        "# 커스텀 데이터 제너레이터 "
      ]
    },
    {
      "cell_type": "markdown",
      "metadata": {
        "id": "wBH8rswUUaM0"
      },
      "source": [
        "# 모델 "
      ]
    },
    {
      "cell_type": "code",
      "execution_count": 23,
      "metadata": {
        "id": "CWCXVj_vUbcm"
      },
      "outputs": [],
      "source": [
        "# 하이퍼 파라미터 조정 \n",
        "class cfg:\n",
        "    epochs = 50 \n",
        "    lr = 1e-3 \n",
        "    batch_size = 16 \n",
        "    seed = 42 \n",
        "    img_size = img_size \n",
        "#Random Seed 고정 \n",
        "def seed_everything(seed: int = 42):\n",
        "    random.seed(seed)\n",
        "    np.random.seed(seed)\n",
        "    os.environ[\"PYTHONHASHSEED\"] = str(seed)\n",
        "    tf.random.set_seed(2)\n",
        "\n",
        "seed_everything(cfg.seed)      "
      ]
    },
    {
      "cell_type": "code",
      "execution_count": 18,
      "metadata": {
        "colab": {
          "base_uri": "https://localhost:8080/"
        },
        "id": "re4Pm1RuUc-X",
        "outputId": "8e857286-6034-42be-f356-ea92e1d7ac63"
      },
      "outputs": [
        {
          "name": "stdout",
          "output_type": "stream",
          "text": [
            "Downloading data from https://storage.googleapis.com/tensorflow/keras-applications/resnet/resnet50_weights_tf_dim_ordering_tf_kernels.h5\n",
            "102973440/102967424 [==============================] - 1s 0us/step\n",
            "102981632/102967424 [==============================] - 1s 0us/step\n"
          ]
        }
      ],
      "source": [
        "from tensorflow.keras import applications \n",
        "res50 = applications.ResNet50(weights='imagenet', include_top=True, input_shape=(cfg.img_size, cfg.img_size,3)) #size -> 256, 256 \n",
        "res50.trainable = True"
      ]
    },
    {
      "cell_type": "code",
      "execution_count": 44,
      "metadata": {
        "colab": {
          "base_uri": "https://localhost:8080/"
        },
        "id": "YNR1sBsJXNYn",
        "outputId": "20e9bb54-8566-4d48-f0c2-747e3ec0c83a"
      },
      "outputs": [
        {
          "name": "stdout",
          "output_type": "stream",
          "text": [
            "Model: \"model_4\"\n",
            "_________________________________________________________________\n",
            " Layer (type)                Output Shape              Param #   \n",
            "=================================================================\n",
            " input_9 (InputLayer)        [(None, 224, 224, 3)]     0         \n",
            "                                                                 \n",
            " resnet50 (Functional)       (None, 1000)              25636712  \n",
            "                                                                 \n",
            " batch_normalization_5 (Batc  (None, 1000)             4000      \n",
            " hNormalization)                                                 \n",
            "                                                                 \n",
            " dense_9 (Dense)             (None, 512)               512512    \n",
            "                                                                 \n",
            " dropout_5 (Dropout)         (None, 512)               0         \n",
            "                                                                 \n",
            " batch_normalization_6 (Batc  (None, 512)              2048      \n",
            " hNormalization)                                                 \n",
            "                                                                 \n",
            " dense_10 (Dense)            (None, 256)               131328    \n",
            "                                                                 \n",
            " dropout_6 (Dropout)         (None, 256)               0         \n",
            "                                                                 \n",
            " dense_11 (Dense)            (None, 50)                12850     \n",
            "                                                                 \n",
            "=================================================================\n",
            "Total params: 26,299,450\n",
            "Trainable params: 26,243,306\n",
            "Non-trainable params: 56,144\n",
            "_________________________________________________________________\n"
          ]
        }
      ],
      "source": [
        "img_input = layers.Input(shape = (cfg.img_size,cfg.img_size,3))\n",
        "x = res50(img_input)\n",
        "x = layers.BatchNormalization()(x)\n",
        "x = layers.Dense(512,activation='relu')(x)\n",
        "x = layers.Dropout(0.2)(x)\n",
        "x = layers.BatchNormalization()(x)\n",
        "x = layers.Dense(256,activation='relu')(x)\n",
        "x = layers.Dropout(0.2)(x)\n",
        "out = layers.Dense(len(label_unique),activation='softmax')(x)\n",
        "model = keras.Model(img_input,out)\n",
        "model.summary()"
      ]
    },
    {
      "cell_type": "code",
      "execution_count": 45,
      "metadata": {
        "id": "AA5hwpKvXpIY"
      },
      "outputs": [],
      "source": [
        "# mode complie \n",
        "\n",
        "optimizer = tf.optimizers.Adam(learning_rate = cfg.lr)\n",
        "loss_fn = 'sparse_categorical_crossentropy'"
      ]
    },
    {
      "cell_type": "code",
      "execution_count": 46,
      "metadata": {
        "id": "fDamm6LaZTF2"
      },
      "outputs": [],
      "source": [
        "#콜백 \n",
        "from IPython.display import clear_output\n",
        "from tensorflow.keras.callbacks import Callback\n",
        "\n",
        "class PlotLosses(Callback):\n",
        "\n",
        "  def on_train_begin(self, logs={}):\n",
        "    self.epochs = []\n",
        "    self.losses = []\n",
        "    self.val_losses = []\n",
        "    self.logs = []\n",
        "    self.fig = plt.figure()\n",
        "\n",
        "\n",
        "  def on_epoch_end(self, epoch, logs={}):\n",
        "    self.epochs.append(epoch)\n",
        "    self.losses.append(logs.get('loss'))\n",
        "    self.val_losses.append(logs.get('val_loss'))\n",
        "\n",
        "    clear_output(wait=True)\n",
        "    plt.plot(self.epochs, self.losses, label=\"loss\")\n",
        "    plt.plot(self.epochs, self.val_losses, label=\"val_loss\")\n",
        "    plt.legend()\n",
        "    plt.show();\n",
        "    print(\"loss = \", self.losses[-1], \", val_loss = \", self.val_losses[-1])\n",
        "\n",
        "#call backs 선언\n",
        "plot_losses = PlotLosses()\n"
      ]
    },
    {
      "cell_type": "code",
      "execution_count": 47,
      "metadata": {
        "colab": {
          "base_uri": "https://localhost:8080/",
          "height": 340
        },
        "id": "Hwaz0FgyY1xL",
        "outputId": "9455bf9c-4244-4d8d-d510-afc3d2843297"
      },
      "outputs": [
        {
          "data": {
            "image/png": "[encoded data removed]",
            "text/plain": [
              "<Figure size 432x288 with 1 Axes>"
            ]
          },
          "metadata": {
            "needs_background": "light"
          },
          "output_type": "display_data"
        },
        {
          "name": "stdout",
          "output_type": "stream",
          "text": [
            "loss =  1.6822093725204468 , val_loss =  4.280880928039551\n",
            "\b\b\b\b\b\b\b\b\b\b\b\b\b\b\b\b\b\b\b\b\b\b\b\b\b\b\b\b\b\b\b\b\b\b\b\b\b\b\b\b\b\b\b\b\b\b\b\b\b\b\b\b\b\b\b\b\b\b\b\b\b\b\b\b\b\b\b\b\b\b\b\b\b\b\b\b\b\b\b\b\b\b\b\b\r100/100 [==============================] - 19s 190ms/step - loss: 1.6822 - accuracy: 0.5131 - val_loss: 4.2809 - val_accuracy: 0.1750\n"
          ]
        },
        {
          "data": {
            "text/plain": [
              "<keras.callbacks.History at 0x7fcc4b739c10>"
            ]
          },
          "execution_count": 47,
          "metadata": {},
          "output_type": "execute_result"
        }
      ],
      "source": [
        "model.compile(optimizer=optimizer,loss = loss_fn,metrics=['accuracy'])\n",
        "model.fit(x = train_x, \n",
        "          y = train_y,\n",
        "          batch_size = cfg.batch_size,\n",
        "          epochs = cfg.epochs,\n",
        "          verbose = 1,\n",
        "          validation_data = [valid_x,valid_y],\n",
        "          callbacks = [plot_losses],\n",
        "          )\n",
        "#학습한 모델 저장 \n",
        "model.save('model.h5')"
      ]
    },
    {
      "cell_type": "markdown",
      "metadata": {
        "id": "XDL5KhwYjUln"
      },
      "source": [
        "# Inference "
      ]
    },
    {
      "cell_type": "code",
      "execution_count": 2,
      "metadata": {
        "id": "ebbUfubYjhRr"
      },
      "outputs": [],
      "source": [
        "# 저장한 모델 로드 \n",
        "model = tf.keras.models.load_model('model.h5')"
      ]
    },
    {
      "cell_type": "code",
      "execution_count": 22,
      "metadata": {
        "id": "u61E5M47ooGp"
      },
      "outputs": [],
      "source": [
        "#테스트 데이터용 제너레이터 \n",
        "from tensorflow.keras.utils import Sequence\n",
        "import math \n",
        "class Test_Generator(Sequence):\n",
        "  def __init__(self,img_dirs,img_size,batch_size):\n",
        "    self.img_dirs = img_dirs \n",
        "    self.img_size = img_size \n",
        "    self.batch_size = batch_size \n",
        "\n",
        "  def __len__(self):\n",
        "    return math.ceil(len(self.img_dirs)/self.batch_size)\n",
        "  \n",
        "  def img_preprocess(self,img):\n",
        "    img = cv2.resize(img,dsize=(self.img_size,self.img_size))\n",
        "    img = img/255.\n",
        "    img = img.astype(np.float16)\n",
        "    return img \n",
        "\n",
        "  def img_load(self,img_dir):\n",
        "    img = cv2.imread(img_dir)\n",
        "    img = self.img_preprocess(img)\n",
        "    return img \n",
        "\n",
        "  def __getitem__(self,index):\n",
        "    self.batch_dirs = self.img_dirs[index*self.batch_size:(index+1)*self.batch_size]\n",
        "\n",
        "    temp_imgs = [self.img_load(img_dir) for img_dir in self.batch_dirs]\n",
        "    return np.array(temp_imgs)"
      ]
    },
    {
      "cell_type": "code",
      "execution_count": 23,
      "metadata": {
        "id": "0lQRZ8pQokaY"
      },
      "outputs": [],
      "source": [
        "test_dirs = sorted(glob('./Data/test/*.jpg'))\n",
        "test_data = Test_Generator(test_dirs,img_size=224,batch_size=8)"
      ]
    },
    {
      "cell_type": "code",
      "execution_count": 31,
      "metadata": {
        "id": "jGGbOFuEkDcE"
      },
      "outputs": [],
      "source": [
        "y_ = model.predict(x=test_data)\n",
        "predicted = np.argmax(y_,axis=1)\n",
        "\n",
        "predicted_label = pd.Series(predicted).apply(lambda x : label_decoder[x]).values"
      ]
    },
    {
      "cell_type": "code",
      "execution_count": 34,
      "metadata": {
        "id": "xY6EkU0-kU8r"
      },
      "outputs": [],
      "source": [
        "submission = pd.read_csv('./Data/sample_submission.csv')\n",
        "submission['artist'] = predicted_label\n",
        "submission.to_csv('submission.csv',index=False)"
      ]
    },
    {
      "cell_type": "markdown",
      "metadata": {
        "id": "tX_SMZp8rOFe"
      },
      "source": [
        "# 결과 "
      ]
    },
    {
      "cell_type": "markdown",
      "metadata": {
        "id": "a3zm6qO5rOwM"
      },
      "source": [
        "![image.png](data:image/png;base64,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)"
      ]
    }
  ],
  "metadata": {
    "accelerator": "GPU",
    "colab": {
      "collapsed_sections": [],
      "provenance": []
    },
    "kernelspec": {
      "display_name": "Python 3",
      "name": "python3"
    },
    "language_info": {
      "name": "python"
    }
  },
  "nbformat": 4,
  "nbformat_minor": 0
}
