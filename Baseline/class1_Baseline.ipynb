{
  "cells": [
    {
      "cell_type": "markdown",
      "metadata": {
        "id": "gAJulNXoShVu"
      },
      "source": [
        "#데이터 로드 "
      ]
    },
    {
      "cell_type": "code",
      "execution_count": 7,
      "metadata": {
        "colab": {
          "base_uri": "https://localhost:8080/"
        },
        "id": "Xc4e9dUTSkMk",
        "outputId": "5e254661-77d3-4b3f-92fd-bf124c1ab6b2"
      },
      "outputs": [
        {
          "name": "stdout",
          "output_type": "stream",
          "text": [
            "mkdir: cannot create directory ‘Data’: File exists\n",
            "/content/Data\n",
            "Downloading...\n",
            "From: https://drive.google.com/u/0/uc?id=1SZ5j8SJTCqQQuNHTMDHXSOMShKUvB479\n",
            "To: /content/Data/open.zip\n",
            "100% 2.56G/2.56G [00:28<00:00, 89.5MB/s]\n"
          ]
        }
      ],
      "source": [
        "!mkdir Data \n",
        "%cd ./Data \n",
        "!gdown https://drive.google.com/u/0/uc?id=1SZ5j8SJTCqQQuNHTMDHXSOMShKUvB479&export=download\n",
        "!unzip open.zip \n",
        "!rm -f open.zip\n",
        "%cd /content"
      ]
    },
    {
      "cell_type": "code",
      "execution_count": 28,
      "metadata": {
        "id": "3h6BXsIdSlGu"
      },
      "outputs": [],
      "source": [
        "import os \n",
        "import warnings \n",
        "\n",
        "import cv2 \n",
        "import pandas as pd \n",
        "from glob import glob \n",
        "from tqdm import tqdm \n",
        "import random \n",
        "import matplotlib.pyplot as plt \n",
        "import numpy as np \n",
        "import tensorflow as tf \n",
        "from tensorflow import keras \n",
        "from tensorflow.keras import layers "
      ]
    },
    {
      "cell_type": "markdown",
      "metadata": {
        "id": "1Res6rzyTBfD"
      },
      "source": [
        "# 1단계 이미지 디렉토리 로드 "
      ]
    },
    {
      "cell_type": "code",
      "execution_count": 29,
      "metadata": {
        "id": "13A1KcA7TC6-"
      },
      "outputs": [],
      "source": [
        "img_dirs = sorted(glob('./Data/train/*.jpg'))[:2000]\n",
        "train_csv = pd.read_csv('./Data/train.csv')\n",
        "img_size = 224 \n"
      ]
    },
    {
      "cell_type": "markdown",
      "metadata": {},
      "source": [
        "# 2단계 이미지 데이터 로드 및 전처리 "
      ]
    },
    {
      "cell_type": "code",
      "execution_count": null,
      "metadata": {},
      "outputs": [],
      "source": [
        "\n",
        "def img_preprocess(img):\n",
        "    global img_size \n",
        "    img = cv2.resize(img,dsize=(img_size,img_size))\n",
        "    img = img/255.\n",
        "    img = img.astype(np.float16)\n",
        "    return img \n",
        "\n",
        "def img_load(img_dir):\n",
        "    img = cv2.imread(img_dir)\n",
        "    img = img_preprocess(img)\n",
        "    return img \n",
        "\n",
        "imgs = [img_load(img_dir) for img_dir in tqdm(img_dirs)]\n",
        "imgs = np.array(imgs)"
      ]
    },
    {
      "cell_type": "markdown",
      "metadata": {
        "id": "xhRaRRHKTEYJ"
      },
      "source": [
        "# 3단계 라벨 데이터 로드 "
      ]
    },
    {
      "cell_type": "code",
      "execution_count": 30,
      "metadata": {
        "id": "WjxaQK2qUQfD"
      },
      "outputs": [],
      "source": [
        "#라벨 데이터 정제 \n",
        "label_unique = np.unique(train_csv['artist'])\n",
        "label_decoder = {key:value for key,value in enumerate(label_unique)}\n",
        "label_encoder = {value:key for key,value in enumerate(label_unique)}\n",
        "\n",
        "labels = train_csv['artist'].apply(lambda x : label_encoder[x]).values[:2000]"
      ]
    },
    {
      "cell_type": "markdown",
      "metadata": {
        "id": "4Wp_lwODUYhZ"
      },
      "source": [
        "# Train-Valid 분리 "
      ]
    },
    {
      "cell_type": "code",
      "execution_count": 42,
      "metadata": {
        "id": "IK_x_48jUXQt"
      },
      "outputs": [],
      "source": [
        "valid_ratio = 0.8 \n",
        "valid_index = int(len(imgs)*valid_ratio)\n",
        "train_x = imgs[:valid_index]\n",
        "valid_x = imgs[valid_index:]\n",
        "\n",
        "train_y = labels[:valid_index]\n",
        "valid_y = labels[valid_index:]"
      ]
    }
  ],
  "metadata": {
    "accelerator": "GPU",
    "colab": {
      "collapsed_sections": [],
      "provenance": []
    },
    "kernelspec": {
      "display_name": "Python 3.8.10 64-bit",
      "language": "python",
      "name": "python3"
    },
    "language_info": {
      "name": "python",
      "version": "3.8.10"
    },
    "vscode": {
      "interpreter": {
        "hash": "916dbcbb3f70747c44a77c7bcd40155683ae19c65e1c03b4aa3499c5328201f1"
      }
    }
  },
  "nbformat": 4,
  "nbformat_minor": 0
}
